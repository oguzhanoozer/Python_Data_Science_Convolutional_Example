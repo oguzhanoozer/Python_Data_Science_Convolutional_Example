{
 "cells": [
  {
   "cell_type": "markdown",
   "metadata": {},
   "source": [
    "**Artifical Neural Network on Keras**\n",
    "# Oğuzhan Özer\n",
    "<font color='red'><br> Content\n",
    "\n",
    "* [Introduction:](#1)\n",
    "* [Loading the Data Set:](#2)\n",
    "* [Import Library:](#3)\n",
    "* [Train Test Split](#4)\n",
    "* [Implementing with Keras:](#5)\n",
    "* [Compilation:](#6) \n",
    "* [Trainig:](#7) \n",
    "* [Detect Accuracy variances:](#8) "
   ]
  },
  {
   "cell_type": "markdown",
   "metadata": {},
   "source": [
    "<a id=\"1\"></a> <br>\n",
    "# Introduction\n",
    "* We will be working on digit number dataset by implementing with Keras using Convolutional Neural Network in this notebook.\n"
   ]
  },
  {
   "cell_type": "code",
   "execution_count": 1,
   "metadata": {
    "_cell_guid": "b1076dfc-b9ad-4769-8c92-a6c4dae69d19",
    "_uuid": "8f2839f25d086af736a60e9eeb907d3b93b6e0e5"
   },
   "outputs": [
    {
     "name": "stdout",
     "output_type": "stream",
     "text": [
      "['Sign-language-digits-dataset']\n"
     ]
    }
   ],
   "source": [
    "# This Python 3 environment comes with many helpful analytics libraries installed\n",
    "# It is defined by the kaggle/python docker image: https://github.com/kaggle/docker-python\n",
    "# For example, here's several helpful packages to load in \n",
    "\n",
    "# standart data tools\n",
    "import numpy as np\n",
    "import pandas as pd\n",
    "\n",
    "# common visualizing tools\n",
    "import matplotlib.pyplot as plt\n",
    "import seaborn as sns\n",
    "\n",
    "# Input data files are available in the \"../input/\" directory.\n",
    "# For example, running this (by clicking run or pressing Shift+Enter) will list the files in the input directory\n",
    "\n",
    "import os\n",
    "print(os.listdir(\"../input\"))\n",
    "import warnings\n",
    "warnings.filterwarnings(\"ignore\")\n",
    "\n",
    "# Any results you write to the current directory are saved as output."
   ]
  },
  {
   "cell_type": "markdown",
   "metadata": {},
   "source": [
    "<a id=\"2\"></a> <br>\n",
    "# Loading the Data Set\n",
    "* In this part we load and visualize the data."
   ]
  },
  {
   "cell_type": "code",
   "execution_count": 2,
   "metadata": {
    "_cell_guid": "79c7e3d0-c299-4dcb-8224-4455121ee9b0",
    "_uuid": "d629ff2d2480ee46fbb7e2d37f6b5fab8052498a"
   },
   "outputs": [],
   "source": [
    "X_train = np.load(\"../input/Sign-language-digits-dataset/X.npy\")\n",
    "Y_train = np.load(\"../input/Sign-language-digits-dataset/Y.npy\")"
   ]
  },
  {
   "cell_type": "markdown",
   "metadata": {},
   "source": [
    "<a id=\"3\"></a> <br>\n",
    "# Import Library\n",
    "* In this part we import library that required for keras"
   ]
  },
  {
   "cell_type": "code",
   "execution_count": 3,
   "metadata": {},
   "outputs": [
    {
     "name": "stderr",
     "output_type": "stream",
     "text": [
      "Using TensorFlow backend.\n"
     ]
    }
   ],
   "source": [
    "# CNN layers and the Deep Learning model\n",
    "from tensorflow import keras\n",
    "from keras.models import Sequential\n",
    "from keras.layers import Conv2D, MaxPooling2D, Dense , Flatten, Dropout\n",
    "from keras.optimizers import Adam\n",
    "from keras.wrappers.scikit_learn import KerasClassifier\n",
    "from sklearn.model_selection import cross_val_score\n",
    "\n",
    "# splitting tool for the validation set\n",
    "from sklearn.model_selection import train_test_split"
   ]
  },
  {
   "cell_type": "markdown",
   "metadata": {},
   "source": [
    "<a id=\"4\"></a> <br>\n",
    "# Train Test Split\n",
    "* We split the data into train and test sets.\n",
    "    * test size is 20%.\n",
    "    * train size is 80%."
   ]
  },
  {
   "cell_type": "code",
   "execution_count": 4,
   "metadata": {},
   "outputs": [],
   "source": [
    "x_train, x_test, y_train, y_test = train_test_split(X_train,Y_train,test_size=0.2,random_state=42)\n",
    "x_train = x_train.reshape(-1,64,64,1)\n",
    "x_test = x_test.reshape(-1,64,64,1)"
   ]
  },
  {
   "cell_type": "markdown",
   "metadata": {},
   "source": [
    "<a id=\"5\"></a> <br>\n",
    "# Implementing with Keras"
   ]
  },
  {
   "cell_type": "code",
   "execution_count": 5,
   "metadata": {},
   "outputs": [
    {
     "name": "stdout",
     "output_type": "stream",
     "text": [
      "WARNING:tensorflow:From /opt/conda/lib/python3.6/site-packages/tensorflow/python/framework/op_def_library.py:263: colocate_with (from tensorflow.python.framework.ops) is deprecated and will be removed in a future version.\n",
      "Instructions for updating:\n",
      "Colocations handled automatically by placer.\n",
      "WARNING:tensorflow:From /opt/conda/lib/python3.6/site-packages/keras/backend/tensorflow_backend.py:3445: calling dropout (from tensorflow.python.ops.nn_ops) with keep_prob is deprecated and will be removed in a future version.\n",
      "Instructions for updating:\n",
      "Please use `rate` instead of `keep_prob`. Rate should be set to `rate = 1 - keep_prob`.\n",
      "_________________________________________________________________\n",
      "Layer (type)                 Output Shape              Param #   \n",
      "=================================================================\n",
      "conv2d_1 (Conv2D)            (None, 64, 64, 16)        416       \n",
      "_________________________________________________________________\n",
      "max_pooling2d_1 (MaxPooling2 (None, 32, 32, 16)        0         \n",
      "_________________________________________________________________\n",
      "conv2d_2 (Conv2D)            (None, 32, 32, 32)        8224      \n",
      "_________________________________________________________________\n",
      "max_pooling2d_2 (MaxPooling2 (None, 16, 16, 32)        0         \n",
      "_________________________________________________________________\n",
      "dropout_1 (Dropout)          (None, 16, 16, 32)        0         \n",
      "_________________________________________________________________\n",
      "conv2d_3 (Conv2D)            (None, 16, 16, 32)        9248      \n",
      "_________________________________________________________________\n",
      "max_pooling2d_3 (MaxPooling2 (None, 8, 8, 32)          0         \n",
      "_________________________________________________________________\n",
      "dropout_2 (Dropout)          (None, 8, 8, 32)          0         \n",
      "_________________________________________________________________\n",
      "conv2d_4 (Conv2D)            (None, 8, 8, 32)          4128      \n",
      "_________________________________________________________________\n",
      "max_pooling2d_4 (MaxPooling2 (None, 4, 4, 32)          0         \n",
      "_________________________________________________________________\n",
      "dropout_3 (Dropout)          (None, 4, 4, 32)          0         \n",
      "_________________________________________________________________\n",
      "flatten_1 (Flatten)          (None, 512)               0         \n",
      "_________________________________________________________________\n",
      "dense_1 (Dense)              (None, 128)               65664     \n",
      "_________________________________________________________________\n",
      "dense_2 (Dense)              (None, 64)                8256      \n",
      "_________________________________________________________________\n",
      "dense_3 (Dense)              (None, 30)                1950      \n",
      "_________________________________________________________________\n",
      "dense_4 (Dense)              (None, 10)                310       \n",
      "=================================================================\n",
      "Total params: 98,196\n",
      "Trainable params: 98,196\n",
      "Non-trainable params: 0\n",
      "_________________________________________________________________\n"
     ]
    }
   ],
   "source": [
    "model_sign_lang = Sequential()\n",
    "\n",
    "model_sign_lang.add(Conv2D(filters=16,kernel_size=(5,5),activation=\"relu\",padding=\"same\",input_shape=(64,64,1)))\n",
    "model_sign_lang.add(MaxPooling2D(pool_size=(2,2)))\n",
    "\n",
    "model_sign_lang.add(Conv2D(filters=32,kernel_size=(4,4),activation=\"relu\",padding=\"same\"))\n",
    "model_sign_lang.add(MaxPooling2D(pool_size=(2,2)))\n",
    "model_sign_lang.add(Dropout(0.25))\n",
    "\n",
    "model_sign_lang.add(Conv2D(filters=32,kernel_size=(3,3),activation=\"relu\",padding=\"same\"))\n",
    "model_sign_lang.add(MaxPooling2D(pool_size=(2,2)))\n",
    "model_sign_lang.add(Dropout(0.25))\n",
    "\n",
    "model_sign_lang.add(Conv2D(filters=32,kernel_size=(2,2),activation=\"relu\",padding=\"same\"))\n",
    "model_sign_lang.add(MaxPooling2D(pool_size=(2,2)))\n",
    "model_sign_lang.add(Dropout(0.25))\n",
    "\n",
    "model_sign_lang.add(Flatten())\n",
    "\n",
    "model_sign_lang.add(Dense(128,activation=\"relu\"))\n",
    "model_sign_lang.add(Dense(64,activation=\"relu\"))\n",
    "model_sign_lang.add(Dense(30,activation=\"relu\"))\n",
    "model_sign_lang.add(Dense(10,activation=\"softmax\"))\n",
    "\n",
    "model_sign_lang.compile(optimizer=Adam(lr=0.0002),loss=keras.losses.categorical_crossentropy,metrics=[\"accuracy\"])\n",
    "    \n",
    "model_sign_lang.summary()"
   ]
  },
  {
   "cell_type": "markdown",
   "metadata": {},
   "source": [
    "<a id=\"6\"></a> <br>\n",
    "# Compilation "
   ]
  },
  {
   "cell_type": "code",
   "execution_count": 6,
   "metadata": {},
   "outputs": [],
   "source": [
    "model_sign_lang.compile(optimizer=Adam(lr=0.0002),loss=keras.losses.categorical_crossentropy,metrics=[\"accuracy\"])"
   ]
  },
  {
   "cell_type": "markdown",
   "metadata": {},
   "source": [
    "<a id=\"7\"></a> <br>\n",
    "# Training  "
   ]
  },
  {
   "cell_type": "code",
   "execution_count": 7,
   "metadata": {},
   "outputs": [
    {
     "name": "stdout",
     "output_type": "stream",
     "text": [
      "WARNING:tensorflow:From /opt/conda/lib/python3.6/site-packages/tensorflow/python/ops/math_ops.py:3066: to_int32 (from tensorflow.python.ops.math_ops) is deprecated and will be removed in a future version.\n",
      "Instructions for updating:\n",
      "Use tf.cast instead.\n",
      "Train on 1649 samples, validate on 413 samples\n",
      "Epoch 1/100\n",
      "1649/1649 [==============================] - 7s 4ms/step - loss: 2.3101 - acc: 0.1043 - val_loss: 2.3034 - val_acc: 0.0993\n",
      "Epoch 2/100\n",
      "1649/1649 [==============================] - 6s 4ms/step - loss: 2.3046 - acc: 0.0910 - val_loss: 2.3038 - val_acc: 0.0920\n",
      "Epoch 3/100\n",
      "1649/1649 [==============================] - 6s 4ms/step - loss: 2.3040 - acc: 0.1001 - val_loss: 2.3027 - val_acc: 0.0969\n",
      "Epoch 4/100\n",
      "1649/1649 [==============================] - 6s 4ms/step - loss: 2.3010 - acc: 0.1116 - val_loss: 2.3027 - val_acc: 0.0775\n",
      "Epoch 5/100\n",
      "1649/1649 [==============================] - 6s 4ms/step - loss: 2.3020 - acc: 0.1146 - val_loss: 2.3027 - val_acc: 0.0847\n",
      "Epoch 6/100\n",
      "1649/1649 [==============================] - 6s 4ms/step - loss: 2.3024 - acc: 0.0934 - val_loss: 2.3019 - val_acc: 0.0993\n",
      "Epoch 7/100\n",
      "1649/1649 [==============================] - 6s 4ms/step - loss: 2.3002 - acc: 0.1122 - val_loss: 2.3009 - val_acc: 0.0847\n",
      "Epoch 8/100\n",
      "1649/1649 [==============================] - 6s 4ms/step - loss: 2.2977 - acc: 0.1104 - val_loss: 2.3010 - val_acc: 0.0799\n",
      "Epoch 9/100\n",
      "1649/1649 [==============================] - 6s 4ms/step - loss: 2.2939 - acc: 0.1207 - val_loss: 2.2911 - val_acc: 0.1283\n",
      "Epoch 10/100\n",
      "1649/1649 [==============================] - 6s 4ms/step - loss: 2.2841 - acc: 0.1267 - val_loss: 2.2644 - val_acc: 0.2155\n",
      "Epoch 11/100\n",
      "1649/1649 [==============================] - 6s 4ms/step - loss: 2.2329 - acc: 0.1825 - val_loss: 2.1082 - val_acc: 0.3341\n",
      "Epoch 12/100\n",
      "1649/1649 [==============================] - 6s 4ms/step - loss: 1.9817 - acc: 0.2899 - val_loss: 1.6907 - val_acc: 0.4165\n",
      "Epoch 13/100\n",
      "1649/1649 [==============================] - 6s 4ms/step - loss: 1.6527 - acc: 0.4093 - val_loss: 1.2948 - val_acc: 0.5811\n",
      "Epoch 14/100\n",
      "1649/1649 [==============================] - 6s 4ms/step - loss: 1.3287 - acc: 0.5337 - val_loss: 1.1277 - val_acc: 0.6053\n",
      "Epoch 15/100\n",
      "1649/1649 [==============================] - 6s 4ms/step - loss: 1.1776 - acc: 0.5834 - val_loss: 0.8936 - val_acc: 0.7385\n",
      "Epoch 16/100\n",
      "1649/1649 [==============================] - 6s 4ms/step - loss: 1.0426 - acc: 0.6398 - val_loss: 0.8022 - val_acc: 0.7579\n",
      "Epoch 17/100\n",
      "1649/1649 [==============================] - 6s 4ms/step - loss: 0.9501 - acc: 0.6762 - val_loss: 0.7332 - val_acc: 0.7772\n",
      "Epoch 18/100\n",
      "1649/1649 [==============================] - 6s 4ms/step - loss: 0.8933 - acc: 0.6968 - val_loss: 0.6480 - val_acc: 0.8111\n",
      "Epoch 19/100\n",
      "1649/1649 [==============================] - 6s 4ms/step - loss: 0.8105 - acc: 0.7247 - val_loss: 0.5843 - val_acc: 0.8281\n",
      "Epoch 20/100\n",
      "1649/1649 [==============================] - 6s 4ms/step - loss: 0.7827 - acc: 0.7295 - val_loss: 0.5741 - val_acc: 0.8329\n",
      "Epoch 21/100\n",
      "1649/1649 [==============================] - 6s 4ms/step - loss: 0.7319 - acc: 0.7495 - val_loss: 0.5249 - val_acc: 0.8547\n",
      "Epoch 22/100\n",
      "1649/1649 [==============================] - 6s 4ms/step - loss: 0.6842 - acc: 0.7690 - val_loss: 0.4826 - val_acc: 0.8450\n",
      "Epoch 23/100\n",
      "1649/1649 [==============================] - 6s 4ms/step - loss: 0.6613 - acc: 0.7805 - val_loss: 0.4928 - val_acc: 0.8402\n",
      "Epoch 24/100\n",
      "1649/1649 [==============================] - 6s 4ms/step - loss: 0.6316 - acc: 0.7865 - val_loss: 0.4544 - val_acc: 0.8668\n",
      "Epoch 25/100\n",
      "1649/1649 [==============================] - 6s 4ms/step - loss: 0.6270 - acc: 0.7859 - val_loss: 0.4402 - val_acc: 0.8765\n",
      "Epoch 26/100\n",
      "1649/1649 [==============================] - 6s 4ms/step - loss: 0.5909 - acc: 0.8181 - val_loss: 0.4144 - val_acc: 0.8910\n",
      "Epoch 27/100\n",
      "1649/1649 [==============================] - 6s 4ms/step - loss: 0.5484 - acc: 0.8260 - val_loss: 0.3808 - val_acc: 0.9031\n",
      "Epoch 28/100\n",
      "1649/1649 [==============================] - 6s 4ms/step - loss: 0.5375 - acc: 0.8181 - val_loss: 0.3619 - val_acc: 0.8983\n",
      "Epoch 29/100\n",
      "1649/1649 [==============================] - 6s 4ms/step - loss: 0.5187 - acc: 0.8247 - val_loss: 0.3401 - val_acc: 0.8935\n",
      "Epoch 30/100\n",
      "1649/1649 [==============================] - 6s 4ms/step - loss: 0.5248 - acc: 0.8260 - val_loss: 0.3667 - val_acc: 0.8983\n",
      "Epoch 31/100\n",
      "1649/1649 [==============================] - 6s 4ms/step - loss: 0.4938 - acc: 0.8381 - val_loss: 0.3463 - val_acc: 0.9080\n",
      "Epoch 32/100\n",
      "1649/1649 [==============================] - 6s 4ms/step - loss: 0.4753 - acc: 0.8429 - val_loss: 0.3347 - val_acc: 0.9104\n",
      "Epoch 33/100\n",
      "1649/1649 [==============================] - 6s 4ms/step - loss: 0.4766 - acc: 0.8466 - val_loss: 0.3324 - val_acc: 0.8983\n",
      "Epoch 34/100\n",
      "1649/1649 [==============================] - 6s 4ms/step - loss: 0.4471 - acc: 0.8490 - val_loss: 0.2853 - val_acc: 0.9225\n",
      "Epoch 35/100\n",
      "1649/1649 [==============================] - 6s 4ms/step - loss: 0.4264 - acc: 0.8611 - val_loss: 0.2858 - val_acc: 0.9225\n",
      "Epoch 36/100\n",
      "1649/1649 [==============================] - 6s 4ms/step - loss: 0.3944 - acc: 0.8720 - val_loss: 0.2655 - val_acc: 0.9225\n",
      "Epoch 37/100\n",
      "1649/1649 [==============================] - 6s 4ms/step - loss: 0.4040 - acc: 0.8660 - val_loss: 0.2581 - val_acc: 0.9298\n",
      "Epoch 38/100\n",
      "1649/1649 [==============================] - 6s 4ms/step - loss: 0.3632 - acc: 0.8884 - val_loss: 0.2496 - val_acc: 0.9346\n",
      "Epoch 39/100\n",
      "1649/1649 [==============================] - 6s 4ms/step - loss: 0.3748 - acc: 0.8775 - val_loss: 0.2727 - val_acc: 0.9201\n",
      "Epoch 40/100\n",
      "1649/1649 [==============================] - 6s 4ms/step - loss: 0.3703 - acc: 0.8793 - val_loss: 0.2650 - val_acc: 0.9225\n",
      "Epoch 41/100\n",
      "1649/1649 [==============================] - 6s 4ms/step - loss: 0.3472 - acc: 0.8866 - val_loss: 0.2219 - val_acc: 0.9298\n",
      "Epoch 42/100\n",
      "1649/1649 [==============================] - 6s 4ms/step - loss: 0.3516 - acc: 0.8848 - val_loss: 0.2229 - val_acc: 0.9322\n",
      "Epoch 43/100\n",
      "1649/1649 [==============================] - 6s 4ms/step - loss: 0.3472 - acc: 0.8872 - val_loss: 0.2386 - val_acc: 0.9225\n",
      "Epoch 44/100\n",
      "1649/1649 [==============================] - 6s 4ms/step - loss: 0.3107 - acc: 0.8969 - val_loss: 0.2168 - val_acc: 0.9274\n",
      "Epoch 45/100\n",
      "1649/1649 [==============================] - 6s 4ms/step - loss: 0.3134 - acc: 0.8987 - val_loss: 0.2175 - val_acc: 0.9346\n",
      "Epoch 46/100\n",
      "1649/1649 [==============================] - 6s 4ms/step - loss: 0.2925 - acc: 0.9084 - val_loss: 0.1971 - val_acc: 0.9298\n",
      "Epoch 47/100\n",
      "1649/1649 [==============================] - 6s 4ms/step - loss: 0.2957 - acc: 0.9054 - val_loss: 0.2013 - val_acc: 0.9298\n",
      "Epoch 48/100\n",
      "1649/1649 [==============================] - 6s 4ms/step - loss: 0.2950 - acc: 0.9054 - val_loss: 0.1949 - val_acc: 0.9419\n",
      "Epoch 49/100\n",
      "1649/1649 [==============================] - 6s 4ms/step - loss: 0.2609 - acc: 0.9181 - val_loss: 0.1892 - val_acc: 0.9419\n",
      "Epoch 50/100\n",
      "1649/1649 [==============================] - 6s 4ms/step - loss: 0.2663 - acc: 0.9115 - val_loss: 0.1799 - val_acc: 0.9419\n",
      "Epoch 51/100\n",
      "1649/1649 [==============================] - 6s 4ms/step - loss: 0.2679 - acc: 0.9036 - val_loss: 0.1720 - val_acc: 0.9395\n",
      "Epoch 52/100\n",
      "1649/1649 [==============================] - 6s 4ms/step - loss: 0.2497 - acc: 0.9218 - val_loss: 0.1675 - val_acc: 0.9419\n",
      "Epoch 53/100\n",
      "1649/1649 [==============================] - 6s 4ms/step - loss: 0.2779 - acc: 0.9048 - val_loss: 0.1649 - val_acc: 0.9395\n",
      "Epoch 54/100\n",
      "1649/1649 [==============================] - 6s 4ms/step - loss: 0.2279 - acc: 0.9187 - val_loss: 0.1579 - val_acc: 0.9467\n",
      "Epoch 55/100\n",
      "1649/1649 [==============================] - 6s 4ms/step - loss: 0.2435 - acc: 0.9127 - val_loss: 0.1585 - val_acc: 0.9467\n",
      "Epoch 56/100\n",
      "1649/1649 [==============================] - 6s 4ms/step - loss: 0.2240 - acc: 0.9230 - val_loss: 0.1453 - val_acc: 0.9540\n",
      "Epoch 57/100\n",
      "1649/1649 [==============================] - 6s 4ms/step - loss: 0.2166 - acc: 0.9297 - val_loss: 0.1569 - val_acc: 0.9516\n",
      "Epoch 58/100\n",
      "1649/1649 [==============================] - 6s 4ms/step - loss: 0.2239 - acc: 0.9206 - val_loss: 0.1543 - val_acc: 0.9540\n",
      "Epoch 59/100\n",
      "1649/1649 [==============================] - 6s 4ms/step - loss: 0.2175 - acc: 0.9297 - val_loss: 0.1560 - val_acc: 0.9467\n",
      "Epoch 60/100\n",
      "1649/1649 [==============================] - 6s 4ms/step - loss: 0.2207 - acc: 0.9266 - val_loss: 0.1458 - val_acc: 0.9540\n",
      "Epoch 61/100\n",
      "1649/1649 [==============================] - 6s 4ms/step - loss: 0.1759 - acc: 0.9472 - val_loss: 0.1389 - val_acc: 0.9613\n",
      "Epoch 62/100\n",
      "1649/1649 [==============================] - 6s 4ms/step - loss: 0.1873 - acc: 0.9351 - val_loss: 0.1351 - val_acc: 0.9564\n",
      "Epoch 63/100\n",
      "1649/1649 [==============================] - 6s 4ms/step - loss: 0.1889 - acc: 0.9375 - val_loss: 0.1372 - val_acc: 0.9661\n",
      "Epoch 64/100\n",
      "1649/1649 [==============================] - 6s 4ms/step - loss: 0.1972 - acc: 0.9339 - val_loss: 0.1362 - val_acc: 0.9516\n",
      "Epoch 65/100\n",
      "1649/1649 [==============================] - 6s 4ms/step - loss: 0.1906 - acc: 0.9400 - val_loss: 0.1329 - val_acc: 0.9564\n",
      "Epoch 66/100\n",
      "1649/1649 [==============================] - 6s 4ms/step - loss: 0.1830 - acc: 0.9357 - val_loss: 0.1358 - val_acc: 0.9613\n",
      "Epoch 67/100\n",
      "1649/1649 [==============================] - 6s 4ms/step - loss: 0.1607 - acc: 0.9466 - val_loss: 0.1058 - val_acc: 0.9588\n",
      "Epoch 68/100\n",
      "1649/1649 [==============================] - 6s 4ms/step - loss: 0.1710 - acc: 0.9424 - val_loss: 0.1097 - val_acc: 0.9734\n",
      "Epoch 69/100\n",
      "1649/1649 [==============================] - 6s 4ms/step - loss: 0.1716 - acc: 0.9478 - val_loss: 0.1168 - val_acc: 0.9564\n",
      "Epoch 70/100\n",
      "1649/1649 [==============================] - 6s 4ms/step - loss: 0.1640 - acc: 0.9478 - val_loss: 0.1353 - val_acc: 0.9564\n",
      "Epoch 71/100\n",
      "1649/1649 [==============================] - 6s 4ms/step - loss: 0.1542 - acc: 0.9472 - val_loss: 0.1137 - val_acc: 0.9613\n",
      "Epoch 72/100\n",
      "1649/1649 [==============================] - 6s 4ms/step - loss: 0.1318 - acc: 0.9551 - val_loss: 0.1130 - val_acc: 0.9637\n",
      "Epoch 73/100\n",
      "1649/1649 [==============================] - 6s 4ms/step - loss: 0.1492 - acc: 0.9551 - val_loss: 0.1061 - val_acc: 0.9661\n",
      "Epoch 74/100\n",
      "1649/1649 [==============================] - 6s 4ms/step - loss: 0.1313 - acc: 0.9624 - val_loss: 0.1020 - val_acc: 0.9685\n",
      "Epoch 75/100\n",
      "1649/1649 [==============================] - 6s 4ms/step - loss: 0.1442 - acc: 0.9551 - val_loss: 0.1173 - val_acc: 0.9734\n",
      "Epoch 76/100\n",
      "1649/1649 [==============================] - 6s 4ms/step - loss: 0.1286 - acc: 0.9600 - val_loss: 0.1085 - val_acc: 0.9637\n",
      "Epoch 77/100\n",
      "1649/1649 [==============================] - 6s 4ms/step - loss: 0.1232 - acc: 0.9606 - val_loss: 0.1154 - val_acc: 0.9685\n",
      "Epoch 78/100\n",
      "1649/1649 [==============================] - 6s 4ms/step - loss: 0.1304 - acc: 0.9618 - val_loss: 0.1025 - val_acc: 0.9613\n",
      "Epoch 79/100\n",
      "1649/1649 [==============================] - 6s 4ms/step - loss: 0.1349 - acc: 0.9588 - val_loss: 0.1004 - val_acc: 0.9661\n",
      "Epoch 80/100\n",
      "1649/1649 [==============================] - 6s 4ms/step - loss: 0.1173 - acc: 0.9636 - val_loss: 0.0990 - val_acc: 0.9685\n",
      "Epoch 81/100\n",
      "1649/1649 [==============================] - 6s 4ms/step - loss: 0.1285 - acc: 0.9594 - val_loss: 0.1077 - val_acc: 0.9661\n",
      "Epoch 82/100\n",
      "1649/1649 [==============================] - 6s 4ms/step - loss: 0.1164 - acc: 0.9582 - val_loss: 0.1114 - val_acc: 0.9564\n",
      "Epoch 83/100\n",
      "1649/1649 [==============================] - 6s 4ms/step - loss: 0.1206 - acc: 0.9636 - val_loss: 0.0957 - val_acc: 0.9709\n",
      "Epoch 84/100\n",
      "1649/1649 [==============================] - 6s 4ms/step - loss: 0.1222 - acc: 0.9642 - val_loss: 0.1060 - val_acc: 0.9709\n",
      "Epoch 85/100\n",
      "1649/1649 [==============================] - 6s 4ms/step - loss: 0.1118 - acc: 0.9630 - val_loss: 0.0810 - val_acc: 0.9758\n",
      "Epoch 86/100\n",
      "1649/1649 [==============================] - 6s 4ms/step - loss: 0.1141 - acc: 0.9642 - val_loss: 0.0951 - val_acc: 0.9709\n",
      "Epoch 87/100\n",
      "1649/1649 [==============================] - 6s 4ms/step - loss: 0.1041 - acc: 0.9666 - val_loss: 0.0938 - val_acc: 0.9806\n",
      "Epoch 88/100\n",
      "1649/1649 [==============================] - 6s 4ms/step - loss: 0.1097 - acc: 0.9588 - val_loss: 0.0942 - val_acc: 0.9709\n",
      "Epoch 89/100\n",
      "1649/1649 [==============================] - 6s 4ms/step - loss: 0.1145 - acc: 0.9624 - val_loss: 0.0822 - val_acc: 0.9709\n",
      "Epoch 90/100\n",
      "1649/1649 [==============================] - 6s 4ms/step - loss: 0.0971 - acc: 0.9697 - val_loss: 0.0805 - val_acc: 0.9734\n",
      "Epoch 91/100\n",
      "1649/1649 [==============================] - 6s 4ms/step - loss: 0.1033 - acc: 0.9697 - val_loss: 0.0764 - val_acc: 0.9709\n",
      "Epoch 92/100\n",
      "1649/1649 [==============================] - 6s 4ms/step - loss: 0.1164 - acc: 0.9582 - val_loss: 0.0720 - val_acc: 0.9685\n",
      "Epoch 93/100\n",
      "1649/1649 [==============================] - 6s 4ms/step - loss: 0.0989 - acc: 0.9679 - val_loss: 0.0845 - val_acc: 0.9709\n",
      "Epoch 94/100\n",
      "1649/1649 [==============================] - 6s 4ms/step - loss: 0.0901 - acc: 0.9679 - val_loss: 0.0800 - val_acc: 0.9734\n",
      "Epoch 95/100\n",
      "1649/1649 [==============================] - 6s 4ms/step - loss: 0.1142 - acc: 0.9673 - val_loss: 0.0899 - val_acc: 0.9709\n",
      "Epoch 96/100\n",
      "1649/1649 [==============================] - 6s 4ms/step - loss: 0.1179 - acc: 0.9588 - val_loss: 0.0854 - val_acc: 0.9758\n",
      "Epoch 97/100\n",
      "1649/1649 [==============================] - 6s 4ms/step - loss: 0.0882 - acc: 0.9757 - val_loss: 0.0701 - val_acc: 0.9782\n",
      "Epoch 98/100\n",
      "1649/1649 [==============================] - 6s 4ms/step - loss: 0.0809 - acc: 0.9751 - val_loss: 0.0732 - val_acc: 0.9734\n",
      "Epoch 99/100\n",
      "1649/1649 [==============================] - 6s 4ms/step - loss: 0.0964 - acc: 0.9660 - val_loss: 0.0734 - val_acc: 0.9758\n",
      "Epoch 100/100\n",
      "1649/1649 [==============================] - 6s 4ms/step - loss: 0.1012 - acc: 0.9636 - val_loss: 0.0849 - val_acc: 0.9709\n"
     ]
    }
   ],
   "source": [
    "results = model_sign_lang.fit(x_train,y_train,epochs=100,validation_data=(x_test,y_test))"
   ]
  },
  {
   "cell_type": "markdown",
   "metadata": {},
   "source": [
    "<a id=\"8\"></a> <br>\n",
    "# Detect Accuracy variances"
   ]
  },
  {
   "cell_type": "code",
   "execution_count": 8,
   "metadata": {},
   "outputs": [
    {
     "data": {
      "image/png": "[encoded data removed]",
      "text/plain": [
       "<Figure size 864x504 with 1 Axes>"
      ]
     },
     "metadata": {},
     "output_type": "display_data"
    },
    {
     "data": {
      "image/png": "[encoded data removed]",
      "text/plain": [
       "<Figure size 864x504 with 1 Axes>"
      ]
     },
     "metadata": {},
     "output_type": "display_data"
    }
   ],
   "source": [
    "plt.figure(figsize=(12,7))\n",
    "\n",
    "plt.suptitle(\"ACCURACY\",fontsize=18)\n",
    "\n",
    "plt.plot(results.history[\"val_acc\"],label=\"validation_accuracy\",c=\"red\",linewidth=3)\n",
    "plt.plot(results.history[\"acc\"],label=\"training_accuracy\",c=\"green\",linewidth=3)\n",
    "plt.legend()\n",
    "plt.grid(True)\n",
    "\n",
    "plt.show()\n",
    "\n",
    "plt.figure(figsize=(12,7))\n",
    "plt.plot(results.history[\"val_loss\"],label=\"validation_loss\",c=\"red\",linewidth=3)\n",
    "plt.plot(results.history[\"loss\"],label=\"training_loss\",c=\"green\",linewidth=3)\n",
    "plt.legend()\n",
    "plt.grid(True)\n",
    "\n",
    "plt.suptitle(\"LOSS\",fontsize=18)\n",
    "plt.show()\n"
   ]
  },
  {
   "cell_type": "code",
   "execution_count": 9,
   "metadata": {},
   "outputs": [],
   "source": []
  }
 ],
 "metadata": {
  "kernelspec": {
   "display_name": "Python 3",
   "language": "python",
   "name": "python3"
  },
  "language_info": {
   "codemirror_mode": {
    "name": "ipython",
    "version": 3
   },
   "file_extension": ".py",
   "mimetype": "text/x-python",
   "name": "python",
   "nbconvert_exporter": "python",
   "pygments_lexer": "ipython3",
   "version": "3.6.4"
  }
 },
 "nbformat": 4,
 "nbformat_minor": 1
}
